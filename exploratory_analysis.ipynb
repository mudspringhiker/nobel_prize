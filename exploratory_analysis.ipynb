{
 "cells": [
  {
   "cell_type": "markdown",
   "metadata": {},
   "source": [
    "# Nobel Prize"
   ]
  },
  {
   "cell_type": "code",
   "execution_count": 1,
   "metadata": {
    "collapsed": true
   },
   "outputs": [],
   "source": [
    "import pandas as pd\n",
    "import matplotlib.pyplot as plt\n",
    "import seaborn as sns\n",
    "%matplotlib inline"
   ]
  },
  {
   "cell_type": "code",
   "execution_count": 24,
   "metadata": {
    "collapsed": true
   },
   "outputs": [],
   "source": [
    "plt.rcParams['figure.figsize'] = (16, 7)"
   ]
  },
  {
   "cell_type": "code",
   "execution_count": 3,
   "metadata": {
    "collapsed": false
   },
   "outputs": [
    {
     "name": "stdout",
     "output_type": "stream",
     "text": [
      "Year,Category,Prize,Motivation,Prize Share,Laureate ID,Laureate Type,Full Name,Birth Date,Birth City,Birth Country,Sex,Organization Name,Organization City,Organization Country,Death Date,Death City,Death Country\r\n"
     ]
    }
   ],
   "source": [
    "!head -n 1 archive.csv"
   ]
  },
  {
   "cell_type": "code",
   "execution_count": 4,
   "metadata": {
    "collapsed": false
   },
   "outputs": [],
   "source": [
    "nobeldf = pd.read_csv(\"archive.csv\", parse_dates = [\"Birth Date\", \"Death Date\"])"
   ]
  },
  {
   "cell_type": "code",
   "execution_count": 5,
   "metadata": {
    "collapsed": false
   },
   "outputs": [
    {
     "name": "stdout",
     "output_type": "stream",
     "text": [
      "<class 'pandas.core.frame.DataFrame'>\n",
      "RangeIndex: 969 entries, 0 to 968\n",
      "Data columns (total 18 columns):\n",
      "Year                    969 non-null int64\n",
      "Category                969 non-null object\n",
      "Prize                   969 non-null object\n",
      "Motivation              881 non-null object\n",
      "Prize Share             969 non-null object\n",
      "Laureate ID             969 non-null int64\n",
      "Laureate Type           969 non-null object\n",
      "Full Name               969 non-null object\n",
      "Birth Date              969 non-null object\n",
      "Birth City              941 non-null object\n",
      "Birth Country           943 non-null object\n",
      "Sex                     943 non-null object\n",
      "Organization Name       722 non-null object\n",
      "Organization City       716 non-null object\n",
      "Organization Country    716 non-null object\n",
      "Death Date              617 non-null datetime64[ns]\n",
      "Death City              599 non-null object\n",
      "Death Country           605 non-null object\n",
      "dtypes: datetime64[ns](1), int64(2), object(15)\n",
      "memory usage: 136.3+ KB\n"
     ]
    }
   ],
   "source": [
    "nobeldf.info()"
   ]
  },
  {
   "cell_type": "markdown",
   "metadata": {},
   "source": [
    "The Birth Date didn't get converted to datetime because of \"nan\"'s."
   ]
  },
  {
   "cell_type": "code",
   "execution_count": 6,
   "metadata": {
    "collapsed": true
   },
   "outputs": [],
   "source": [
    "nobeldf = nobeldf.replace(to_replace = \"nan\", value=0)"
   ]
  },
  {
   "cell_type": "code",
   "execution_count": 7,
   "metadata": {
    "collapsed": false
   },
   "outputs": [],
   "source": [
    "nobeldf[\"Birth Year\"] = nobeldf[\"Birth Date\"].str[0:4]"
   ]
  },
  {
   "cell_type": "code",
   "execution_count": 8,
   "metadata": {
    "collapsed": false
   },
   "outputs": [
    {
     "data": {
      "text/plain": [
       "0    1852\n",
       "1    1839\n",
       "2    1854\n",
       "3    1828\n",
       "4    1822\n",
       "Name: Birth Year, dtype: object"
      ]
     },
     "execution_count": 8,
     "metadata": {},
     "output_type": "execute_result"
    }
   ],
   "source": [
    "nobeldf['Birth Year'].head()"
   ]
  },
  {
   "cell_type": "code",
   "execution_count": 9,
   "metadata": {
    "collapsed": false
   },
   "outputs": [
    {
     "name": "stdout",
     "output_type": "stream",
     "text": [
      "<class 'pandas.core.frame.DataFrame'>\n",
      "RangeIndex: 969 entries, 0 to 968\n",
      "Data columns (total 19 columns):\n",
      "Year                    969 non-null int64\n",
      "Category                969 non-null object\n",
      "Prize                   969 non-null object\n",
      "Motivation              881 non-null object\n",
      "Prize Share             969 non-null object\n",
      "Laureate ID             969 non-null int64\n",
      "Laureate Type           969 non-null object\n",
      "Full Name               969 non-null object\n",
      "Birth Date              969 non-null object\n",
      "Birth City              941 non-null object\n",
      "Birth Country           943 non-null object\n",
      "Sex                     943 non-null object\n",
      "Organization Name       722 non-null object\n",
      "Organization City       716 non-null object\n",
      "Organization Country    716 non-null object\n",
      "Death Date              617 non-null datetime64[ns]\n",
      "Death City              599 non-null object\n",
      "Death Country           605 non-null object\n",
      "Birth Year              940 non-null object\n",
      "dtypes: datetime64[ns](1), int64(2), object(16)\n",
      "memory usage: 143.9+ KB\n"
     ]
    }
   ],
   "source": [
    "nobeldf.info()"
   ]
  },
  {
   "cell_type": "code",
   "execution_count": 10,
   "metadata": {
    "collapsed": false
   },
   "outputs": [],
   "source": [
    "nobeldf[\"Birth Year\"] = pd.to_numeric(nobeldf[\"Birth Year\"])"
   ]
  },
  {
   "cell_type": "code",
   "execution_count": 11,
   "metadata": {
    "collapsed": false
   },
   "outputs": [
    {
     "data": {
      "text/plain": [
       "0    1852.0\n",
       "1    1839.0\n",
       "2    1854.0\n",
       "3    1828.0\n",
       "4    1822.0\n",
       "Name: Birth Year, dtype: float64"
      ]
     },
     "execution_count": 11,
     "metadata": {},
     "output_type": "execute_result"
    }
   ],
   "source": [
    "nobeldf[\"Birth Year\"].head()"
   ]
  },
  {
   "cell_type": "code",
   "execution_count": 12,
   "metadata": {
    "collapsed": false
   },
   "outputs": [
    {
     "name": "stdout",
     "output_type": "stream",
     "text": [
      "<class 'pandas.core.frame.DataFrame'>\n",
      "RangeIndex: 969 entries, 0 to 968\n",
      "Data columns (total 19 columns):\n",
      "Year                    969 non-null int64\n",
      "Category                969 non-null object\n",
      "Prize                   969 non-null object\n",
      "Motivation              881 non-null object\n",
      "Prize Share             969 non-null object\n",
      "Laureate ID             969 non-null int64\n",
      "Laureate Type           969 non-null object\n",
      "Full Name               969 non-null object\n",
      "Birth Date              969 non-null object\n",
      "Birth City              941 non-null object\n",
      "Birth Country           943 non-null object\n",
      "Sex                     943 non-null object\n",
      "Organization Name       722 non-null object\n",
      "Organization City       716 non-null object\n",
      "Organization Country    716 non-null object\n",
      "Death Date              617 non-null datetime64[ns]\n",
      "Death City              599 non-null object\n",
      "Death Country           605 non-null object\n",
      "Birth Year              940 non-null float64\n",
      "dtypes: datetime64[ns](1), float64(1), int64(2), object(15)\n",
      "memory usage: 143.9+ KB\n"
     ]
    }
   ],
   "source": [
    "nobeldf.info()"
   ]
  },
  {
   "cell_type": "markdown",
   "metadata": {},
   "source": [
    "### Age when prize was awarded"
   ]
  },
  {
   "cell_type": "code",
   "execution_count": 13,
   "metadata": {
    "collapsed": false
   },
   "outputs": [],
   "source": [
    "nobeldf[\"Age\"] = nobeldf[\"Year\"] - nobeldf[\"Birth Year\"]"
   ]
  },
  {
   "cell_type": "code",
   "execution_count": 14,
   "metadata": {
    "collapsed": false
   },
   "outputs": [
    {
     "data": {
      "text/plain": [
       "61.0    35\n",
       "63.0    34\n",
       "64.0    34\n",
       "56.0    33\n",
       "54.0    33\n",
       "Name: Age, dtype: int64"
      ]
     },
     "execution_count": 14,
     "metadata": {},
     "output_type": "execute_result"
    }
   ],
   "source": [
    "nobeldf.Age.value_counts().head()"
   ]
  },
  {
   "cell_type": "code",
   "execution_count": 15,
   "metadata": {
    "collapsed": false
   },
   "outputs": [
    {
     "data": {
      "text/plain": [
       "count    940.000000\n",
       "mean      59.485106\n",
       "std       12.364399\n",
       "min       17.000000\n",
       "25%       50.000000\n",
       "50%       60.000000\n",
       "75%       69.000000\n",
       "max       90.000000\n",
       "Name: Age, dtype: float64"
      ]
     },
     "execution_count": 15,
     "metadata": {},
     "output_type": "execute_result"
    }
   ],
   "source": [
    "nobeldf.Age.describe()"
   ]
  },
  {
   "cell_type": "markdown",
   "metadata": {},
   "source": [
    "#### Distribution of age of Nobel Prize awardees"
   ]
  },
  {
   "cell_type": "code",
   "execution_count": 25,
   "metadata": {
    "collapsed": false
   },
   "outputs": [
    {
     "name": "stderr",
     "output_type": "stream",
     "text": [
      "/Users/alonavarshal/anaconda/envs/py36/lib/python3.6/site-packages/statsmodels/nonparametric/kdetools.py:20: VisibleDeprecationWarning: using a non-integer number instead of an integer will result in an error in the future\n",
      "  y = X[:m/2+1] + np.r_[0,X[m/2+1:],0]*1j\n"
     ]
    },
    {
     "data": {
      "image/png": "[encoded data removed]",
      "text/plain": [
       "<matplotlib.figure.Figure at 0x111570978>"
      ]
     },
     "metadata": {},
     "output_type": "display_data"
    }
   ],
   "source": [
    "sns.distplot(nobeldf[\"Age\"].fillna(0).astype(int), bins=30)\n",
    "sns.despine();"
   ]
  },
  {
   "cell_type": "markdown",
   "metadata": {},
   "source": [
    "### How many categories and how are they distributed?"
   ]
  },
  {
   "cell_type": "code",
   "execution_count": 18,
   "metadata": {
    "collapsed": false
   },
   "outputs": [
    {
     "data": {
      "text/plain": [
       "Medicine      227\n",
       "Physics       222\n",
       "Chemistry     194\n",
       "Peace         130\n",
       "Literature    113\n",
       "Economics      83\n",
       "Name: Category, dtype: int64"
      ]
     },
     "execution_count": 18,
     "metadata": {},
     "output_type": "execute_result"
    }
   ],
   "source": [
    "nobeldf.Category.value_counts()"
   ]
  },
  {
   "cell_type": "code",
   "execution_count": 33,
   "metadata": {
    "collapsed": false
   },
   "outputs": [
    {
     "data": {
      "image/png": "[encoded data removed]",
      "text/plain": [
       "<matplotlib.figure.Figure at 0x111a20ac8>"
      ]
     },
     "metadata": {},
     "output_type": "display_data"
    }
   ],
   "source": [
    "sns.countplot(y='Category', data= nobeldf, \n",
    "              order=nobeldf.Category.value_counts().index,\n",
    "              palette='GnBu_d')\n",
    "sns.despine();"
   ]
  },
  {
   "cell_type": "markdown",
   "metadata": {},
   "source": [
    "## Males vs. Females"
   ]
  },
  {
   "cell_type": "code",
   "execution_count": 27,
   "metadata": {
    "collapsed": false
   },
   "outputs": [
    {
     "data": {
      "image/png": "[encoded data removed]",
      "text/plain": [
       "<matplotlib.figure.Figure at 0x110edfda0>"
      ]
     },
     "metadata": {},
     "output_type": "display_data"
    }
   ],
   "source": [
    "sns.countplot(y=\"Sex\", data=nobeldf)\n",
    "sns.despine();"
   ]
  },
  {
   "cell_type": "markdown",
   "metadata": {},
   "source": [
    "## Awards by Country"
   ]
  },
  {
   "cell_type": "code",
   "execution_count": 28,
   "metadata": {
    "collapsed": false,
    "scrolled": false
   },
   "outputs": [
    {
     "data": {
      "image/png": "[encoded data removed]",
      "text/plain": [
       "<matplotlib.figure.Figure at 0x11122de48>"
      ]
     },
     "metadata": {},
     "output_type": "display_data"
    }
   ],
   "source": [
    "sns.countplot(y='Organization Country',\n",
    "              data=nobeldf,\n",
    "              order=nobeldf['Organization Country'].value_counts().index,\n",
    "              palette='Blues_r')\n",
    "sns.despine();"
   ]
  },
  {
   "cell_type": "markdown",
   "metadata": {},
   "source": [
    "## You are most likely to be awarded a Nobel Prize if you are:\n",
    "\n",
    "1. a male\n",
    "2. in the area of medicine\n",
    "3. living in the USA\n",
    "4. around 60 years old"
   ]
  },
  {
   "cell_type": "code",
   "execution_count": null,
   "metadata": {
    "collapsed": true
   },
   "outputs": [],
   "source": []
  }
 ],
 "metadata": {
  "anaconda-cloud": {},
  "kernelspec": {
   "display_name": "Python [conda env:py36]",
   "language": "python",
   "name": "conda-env-py36-py"
  },
  "language_info": {
   "codemirror_mode": {
    "name": "ipython",
    "version": 3
   },
   "file_extension": ".py",
   "mimetype": "text/x-python",
   "name": "python",
   "nbconvert_exporter": "python",
   "pygments_lexer": "ipython3",
   "version": "3.6.0"
  }
 },
 "nbformat": 4,
 "nbformat_minor": 2
}
